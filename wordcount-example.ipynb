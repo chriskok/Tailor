{
 "cells": [
  {
   "cell_type": "code",
   "execution_count": 11,
   "metadata": {},
   "outputs": [],
   "source": [
    "from gensim.summarization.summarizer import summarize\n",
    "from gensim.summarization import keywords\n",
    "from docx import Document\n",
    "from sklearn.feature_extraction.text import CountVectorizer\n",
    "from sklearn.metrics.pairwise import cosine_similarity"
   ]
  },
  {
   "cell_type": "code",
   "execution_count": 19,
   "metadata": {},
   "outputs": [
    {
     "data": {
      "text/plain": [
       "'I want to work for <company> because I believe that your company is the perfect intersection between my passion for innovative media and brand communication as well as my skills gained from diverse copywriting experiences.\\nAs the Event Planning Intern at the Greenwich Village Chelsea Chamber of Commerce (GVCCC), I gained significant experience in copywriting for event marketing materials.\\nIn this position, I drafted and edited several rounds of event copy, online event registration pages, and email invitations to ensure brand consistency through writing style, tone, and voice.\\nThis experience taught me about the importance of achieving a solid understanding of each organization’s goals to create a marketing message built on a strong synthesis of all brands.\\nI believe that this skill will transfer to this position because of Moss Adams’s diverse set of relationships and messaging when working with various clients.\\nSince we regularly work on more than one event at a time, I possess the ability to effective prioritize assignments and competing deadlines.\\nMy responsibilities include leading PR Team meetings, managing brand presence on Facebook and Instagram, as well as writing and editing copy for twice weekly social media posts.\\nI believe that working in a position such as this will surely deepen and enrich my professional goals in copywriting.'"
      ]
     },
     "execution_count": 19,
     "metadata": {},
     "output_type": "execute_result"
    }
   ],
   "source": [
    "filename = './input/cover_letter.docx'\n",
    "doc = Document(filename)\n",
    "full_cover_letter = \"\"\n",
    "for p in doc.paragraphs:\n",
    "    full_cover_letter += p.text\n",
    "\n",
    "text_resume = str(full_cover_letter) # Summarize the text with ratio 0.1 (10% of the total words.)\n",
    "summarize(text_resume, ratio=0.3)"
   ]
  },
  {
   "cell_type": "code",
   "execution_count": 18,
   "metadata": {},
   "outputs": [
    {
     "data": {
      "text/plain": [
       "'Ideal candidate has a background in the humanities, attention to detail, and a desire to earn experience in the book publishing industry.\\n• BA or BS, preferably in English or journalism (minor or area of concentration in history, religion, philosophy, political science, or any other discipline in which RLPG publishes).\\n• Knowledge of MS Office suite (Word, Excel, Access) and Windows\\n• Excellent communication and time-management skills'"
      ]
     },
     "execution_count": 18,
     "metadata": {},
     "output_type": "execute_result"
    }
   ],
   "source": [
    "job_desc = \"\"\"Rowman & Littlefield is seeking an entry-level Editorial Assistant for its Lanham, Maryland, office. The Editorial Assistant will support senior editors in its busy editorial production department, assisting with many aspects of production of academic and trade titles, as well as some administrative functions. Ideal candidate has a background in the humanities, attention to detail, and a desire to earn experience in the book publishing industry.\n",
    "\n",
    "Requirements\n",
    "• BA or BS, preferably in English or journalism (minor or area of concentration in history, religion, philosophy, political science, or any other discipline in which RLPG publishes).\n",
    "• Knowledge of the Chicago Manual of Style (familiarity with APA and other style guides a bonus)\n",
    "• Knowledge of MS Office suite (Word, Excel, Access) and Windows\n",
    "• Excellent communication and time-management skills\"\"\"\n",
    "\n",
    "summarize(job_desc, ratio=0.5)"
   ]
  },
  {
   "cell_type": "code",
   "execution_count": 20,
   "metadata": {},
   "outputs": [
    {
     "name": "stdout",
     "output_type": "stream",
     "text": [
      "Your resume matches about 53.96% of the job description\n",
      "publishing\n",
      "publishes\n",
      "excel\n",
      "excellent\n",
      "editorial\n",
      "senior\n",
      "style\n",
      "ideal\n",
      "functions\n",
      "religion\n",
      "philosophy political\n",
      "maryland\n",
      "industry\n"
     ]
    }
   ],
   "source": [
    "text_list = [text_resume, job_desc]\n",
    "cv = CountVectorizer()\n",
    "count_matrix = cv.fit_transform(text_list)\n",
    "\n",
    "# get the match percentage\n",
    "matchPercentage = cosine_similarity(count_matrix)[0][1] * 100\n",
    "matchPercentage = round(matchPercentage, 2) # round to two decimal\n",
    "\n",
    "print(\"Your resume matches about \"+ str(matchPercentage)+ \"% of the job description\")\n",
    "\n",
    "print(keywords(job_desc, ratio=0.25)) \n",
    "# gives you the keywords of the job description"
   ]
  },
  {
   "cell_type": "code",
   "execution_count": null,
   "metadata": {},
   "outputs": [],
   "source": []
  }
 ],
 "metadata": {
  "kernelspec": {
   "display_name": "Python 3.7.6 64-bit ('base': conda)",
   "language": "python",
   "name": "python37664bitbaseconda66ad337704e04e7290b604b07f248736"
  },
  "language_info": {
   "codemirror_mode": {
    "name": "ipython",
    "version": 3
   },
   "file_extension": ".py",
   "mimetype": "text/x-python",
   "name": "python",
   "nbconvert_exporter": "python",
   "pygments_lexer": "ipython3",
   "version": "3.7.6"
  }
 },
 "nbformat": 4,
 "nbformat_minor": 4
}
